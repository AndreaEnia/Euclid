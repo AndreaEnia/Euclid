{
 "cells": [
  {
   "cell_type": "code",
   "execution_count": 1,
   "id": "20909afe-8b45-4dfa-917a-f13fbf84b854",
   "metadata": {},
   "outputs": [],
   "source": [
    "import os, sys\n",
    "import numpy as np\n",
    "import matplotlib.pyplot as plt\n",
    "import matplotlib.cm\n",
    "from matplotlib.ticker import (MultipleLocator, AutoMinorLocator)\n",
    "import pandas as pd, seaborn as sns\n",
    "from astropy.io import fits\n",
    "from astropy.table import Table\n",
    "from tqdm import tqdm"
   ]
  },
  {
   "cell_type": "code",
   "execution_count": 3,
   "id": "d301fa2f-0e0a-4c58-b479-d8f55b74715f",
   "metadata": {},
   "outputs": [],
   "source": [
    "WIDE_index = pd.read_csv('WIDE_index_association.csv')\n",
    "WIDE_photom = fits.open('../refWIDE_onRecovered/ref_sample/photometry.fits')\n",
    "photom_data = WIDE_photom[1].data"
   ]
  },
  {
   "cell_type": "markdown",
   "id": "95b331f9-2e06-4af1-b554-f211991cbb22",
   "metadata": {},
   "source": [
    "Read label things"
   ]
  },
  {
   "cell_type": "code",
   "execution_count": 118,
   "id": "e1b9999a-7540-43da-a0e7-863230de4d99",
   "metadata": {},
   "outputs": [],
   "source": [
    "label_sample = 'WIDE'\n",
    "ref_sample_path = 'ref_sample_{}'.format(label_sample)\n",
    "original_ref_sample_path = '../ref{}_onRecovered/ref_sample/'.format(label_sample)\n",
    "\n",
    "MAMBO_catalog = fits.open('../../../_catalogues/MAMBO_NDR1_{}_magcut.fits'.format(label_sample))[1].data\n",
    "MAMBO_df = Table(MAMBO_catalog)[['ID', 'z_app', 'M', 'SFR']].to_pandas()\n",
    "\n",
    "label_index = fits.open('{}/posteriors/Index_File_posterior.fits'.format(original_ref_sample_path))\n",
    "MAMBO_id = label_index[1].data['OBJECT_ID']\n",
    "label_index = pd.DataFrame(np.load('{}/index.npy'.format(original_ref_sample_path)))\n",
    "label_index['MAMBO_id'] = MAMBO_id\n",
    "label_index['MAMBO_id'] = label_index['MAMBO_id'].astype('int')\n",
    "\n",
    "label_index = label_index.merge(MAMBO_df.rename(columns = {'ID': 'MAMBO_id'}))"
   ]
  },
  {
   "cell_type": "markdown",
   "id": "cf609226-0af1-4f4a-8c37-0ba3a00a1dfc",
   "metadata": {},
   "source": [
    "The concept is: substitute all the z, M and SFR posterior samples with the true values taken from the MAMBO simulated catalog."
   ]
  },
  {
   "cell_type": "code",
   "execution_count": 137,
   "id": "860f8b72-a687-4f04-9bdc-86651f67b471",
   "metadata": {},
   "outputs": [],
   "source": [
    "pp_paths = sorted([original_ref_sample_path+p for p in os.listdir(original_ref_sample_path.format(label_sample)) if p.startswith('pp')])\n",
    "pp_files = [np.load(p) for p in pp_paths]"
   ]
  },
  {
   "cell_type": "code",
   "execution_count": 139,
   "id": "f1ccfaeb-95fa-408f-8bfb-99cec53d7e16",
   "metadata": {},
   "outputs": [
    {
     "name": "stdout",
     "output_type": "stream",
     "text": [
      "0\n",
      "1\n",
      "2\n",
      "3\n",
      "4\n",
      "5\n"
     ]
    }
   ],
   "source": [
    "for idx in range(len(pp_files)):\n",
    "    print(idx)\n",
    "    \n",
    "    arr = label_index[label_index['pp_file'] == idx+1]['z_app'].values\n",
    "    pp_files[idx]['REDSHIFT'] = np.tile(arr.reshape(1, len(arr)), (100, 1)).T\n",
    "\n",
    "    arr = label_index[label_index['pp_file'] == idx+1]['M'].values\n",
    "    pp_files[idx]['STELLARMASS'] = np.tile(arr.reshape(1, len(arr)), (100, 1)).T\n",
    "\n",
    "    arr = np.log10(label_index[label_index['pp_file'] == idx+1]['SFR'].values)\n",
    "    pp_files[idx]['SFR'] = np.tile(arr.reshape(1, len(arr)), (100, 1)).T"
   ]
  },
  {
   "cell_type": "code",
   "execution_count": 142,
   "id": "d368a7ae-a1f6-4397-a8ee-47c3d9538788",
   "metadata": {},
   "outputs": [],
   "source": [
    "np.save('ref_sample/pp_data_1.npy', pp_files[0])\n",
    "np.save('ref_sample/pp_data_2.npy', pp_files[1])\n",
    "np.save('ref_sample/pp_data_3.npy', pp_files[2])\n",
    "np.save('ref_sample/pp_data_4.npy', pp_files[3])\n",
    "np.save('ref_sample/pp_data_5.npy', pp_files[4])\n",
    "np.save('ref_sample/pp_data_6.npy', pp_files[5])"
   ]
  },
  {
   "cell_type": "code",
   "execution_count": 153,
   "id": "d7a0e2cb-19b5-479e-bfe5-b9dc8799aabb",
   "metadata": {},
   "outputs": [],
   "source": [
    "index = label_index[['id', 'weight', 'pdz_file', 'pdz_offset', 'pp_file', 'pp_offset', 'sed_file', 'sed_offset']].to_records(index=False)\n",
    "np.save('ref_sample/index.npy', index)"
   ]
  },
  {
   "cell_type": "markdown",
   "id": "98f0178b-a6ae-4f12-ad68-ff6548b7f168",
   "metadata": {},
   "source": [
    "---"
   ]
  }
 ],
 "metadata": {
  "kernelspec": {
   "display_name": "Python 3 (ipykernel)",
   "language": "python",
   "name": "python3"
  },
  "language_info": {
   "codemirror_mode": {
    "name": "ipython",
    "version": 3
   },
   "file_extension": ".py",
   "mimetype": "text/x-python",
   "name": "python",
   "nbconvert_exporter": "python",
   "pygments_lexer": "ipython3",
   "version": "3.8.16"
  }
 },
 "nbformat": 4,
 "nbformat_minor": 5
}
