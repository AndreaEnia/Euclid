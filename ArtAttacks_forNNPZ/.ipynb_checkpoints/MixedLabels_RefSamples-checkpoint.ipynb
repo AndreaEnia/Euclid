{
 "cells": [
  {
   "cell_type": "code",
   "execution_count": 1,
   "id": "20909afe-8b45-4dfa-917a-f13fbf84b854",
   "metadata": {},
   "outputs": [],
   "source": [
    "import os, sys\n",
    "import numpy as np\n",
    "import matplotlib.pyplot as plt\n",
    "import matplotlib.cm\n",
    "from matplotlib.ticker import (MultipleLocator, AutoMinorLocator)\n",
    "import pandas as pd, seaborn as sns\n",
    "from astropy.io import fits\n",
    "from tqdm import tqdm"
   ]
  },
  {
   "cell_type": "code",
   "execution_count": 2,
   "id": "d301fa2f-0e0a-4c58-b479-d8f55b74715f",
   "metadata": {},
   "outputs": [],
   "source": [
    "WIDE_index = pd.read_csv('WIDE_index_association.csv')\n",
    "WIDE_photom = fits.open('../refWIDE_onRecovered/ref_sample/photometry.fits')\n",
    "photom_data = WIDE_photom[1].data"
   ]
  },
  {
   "cell_type": "markdown",
   "id": "95b331f9-2e06-4af1-b554-f211991cbb22",
   "metadata": {},
   "source": [
    "Read label things"
   ]
  },
  {
   "cell_type": "code",
   "execution_count": 217,
   "id": "e1b9999a-7540-43da-a0e7-863230de4d99",
   "metadata": {},
   "outputs": [],
   "source": [
    "label_sample = 'CALIB25exp'\n",
    "ref_sample_path = 'ref_sample_{}'.format(label_sample)\n",
    "original_ref_sample_path = '../ref{}_onRecovered/ref_sample/'.format(label_sample)\n",
    "\n",
    "#label_index = fits.open('{}/posteriors/Index_File_posterior.fits'.format(original_ref_sample_path))\n",
    "label_index = pd.DataFrame(np.load('{}/index.npy'.format(original_ref_sample_path)))\n",
    "label_index['MAMBO_id'] = label_index['MAMBO_id'].astype('int')"
   ]
  },
  {
   "cell_type": "code",
   "execution_count": 206,
   "id": "c7338f3b-7f07-4bd0-b06a-50f1995c63ca",
   "metadata": {
    "tags": []
   },
   "outputs": [],
   "source": [
    "# This is going to take a little while\n",
    "if 'label_pdz_files' in locals(): pass\n",
    "else:\n",
    "    sorted_files = sorted([p for p in os.listdir(original_ref_sample_path) if p.startswith('pdz_data_')], key=lambda x: int(x.split('_')[-1].split('.')[0]))\n",
    "    label_pdz_files = [np.load('{0}/{1}'.format(original_ref_sample_path, p)) for p in tqdm(sorted_files)]\n",
    "\n",
    "# This is going to take a couple of minutes while\n",
    "if 'label_pp_files' in locals(): pass\n",
    "else:\n",
    "    sorted_files = sorted([p for p in os.listdir(original_ref_sample_path) if p.startswith('pp_data_')], key=lambda x: int(x.split('_')[-1].split('.')[0]))\n",
    "    label_pp_files = [np.load('{0}/{1}'.format(original_ref_sample_path, p)) for p in tqdm(sorted_files)]"
   ]
  },
  {
   "cell_type": "markdown",
   "id": "df8efcce-a9f7-4b86-9107-b96650cac3c6",
   "metadata": {},
   "source": [
    "Extract the good IDs."
   ]
  },
  {
   "cell_type": "code",
   "execution_count": 207,
   "id": "ed804ee9-9cd0-4198-badf-55e6125fc2f5",
   "metadata": {
    "scrolled": true
   },
   "outputs": [
    {
     "name": "stderr",
     "output_type": "stream",
     "text": [
      "/tmp/ipykernel_629160/4054373726.py:3: SettingWithCopyWarning: \n",
      "A value is trying to be set on a copy of a slice from a DataFrame.\n",
      "Try using .loc[row_indexer,col_indexer] = value instead\n",
      "\n",
      "See the caveats in the documentation: https://pandas.pydata.org/pandas-docs/stable/user_guide/indexing.html#returning-a-view-versus-a-copy\n",
      "  ndf['sort_cat'] = pd.Categorical(ndf['MAMBO_id'], categories = WIDE_index['MAMBO_ID'], ordered = True)\n",
      "/guest/euclid/.local/lib/python3.8/site-packages/pandas/util/_decorators.py:311: SettingWithCopyWarning: \n",
      "A value is trying to be set on a copy of a slice from a DataFrame\n",
      "\n",
      "See the caveats in the documentation: https://pandas.pydata.org/pandas-docs/stable/user_guide/indexing.html#returning-a-view-versus-a-copy\n",
      "  return func(*args, **kwargs)\n"
     ]
    }
   ],
   "source": [
    "#pd.set_option('mode.chained_assignment', None)\n",
    "ndf = label_index[label_index['MAMBO_id'].isin(WIDE_index['MAMBO_ID'])]\n",
    "ndf['sort_cat'] = pd.Categorical(ndf['MAMBO_id'], categories = WIDE_index['MAMBO_ID'], ordered = True)\n",
    "ndf.sort_values('sort_cat', inplace=True)\n",
    "ndf.reset_index(inplace=True, drop = True)\n",
    "ndf = ndf.drop(columns = 'sort_cat')"
   ]
  },
  {
   "cell_type": "markdown",
   "id": "e8aec124-35e0-4af0-a119-f5e669b9b722",
   "metadata": {},
   "source": [
    "PDZ and PP files"
   ]
  },
  {
   "cell_type": "code",
   "execution_count": 209,
   "id": "d10b58ec-3fcb-43a6-be66-c3a44946af43",
   "metadata": {},
   "outputs": [],
   "source": [
    "list_pp_row = [label_pp_files[ppf-1][ppo] for ppf, ppo in zip(ndf['pp_file'].values, ndf['pp_offset'].values)]\n",
    "list_pdz_row = [label_pdz_files[pzf-1][pzo] for pzf, pzo in zip(ndf['pdz_file'].values, ndf['pdz_offset'].values)]\n",
    "list_pdz_row.insert(0, label_pdz_files[0][0])\n",
    "new_pdz, new_pp = np.stack(list_pdz_row), np.stack(list_pp_row)\n",
    "np.save('ref_sample_{}/pdz_data_1.npy'.format(label_sample), new_pdz)\n",
    "np.save('ref_sample_{}/pp_data_1.npy'.format(label_sample), new_pp)"
   ]
  },
  {
   "cell_type": "markdown",
   "id": "b8f32a7c-e855-4ccb-b98d-382a1bbbff3e",
   "metadata": {},
   "source": [
    "Index"
   ]
  },
  {
   "cell_type": "code",
   "execution_count": 210,
   "id": "333df410-3a82-4717-b801-60c56fbdfcfa",
   "metadata": {},
   "outputs": [],
   "source": [
    "ndf['pdz_file'] = 1\n",
    "ndf['pdz_offset'] = ndf.reset_index()['index'].values + 1\n",
    "ndf['pp_file'] = 1\n",
    "ndf['pp_offset'] = ndf.reset_index()['index'].values\n",
    "ndf['sed_file'] = WIDE_index[WIDE_index['MAMBO_ID'].isin(ndf['MAMBO_id'])]['sed_file'].reset_index(drop=True)\n",
    "ndf['sed_offset'] = WIDE_index[WIDE_index['MAMBO_ID'].isin(ndf['MAMBO_id'])]['sed_offset'].reset_index(drop=True)\n",
    "ndf['id'] = WIDE_index[WIDE_index['MAMBO_ID'].isin(ndf['MAMBO_id'])]['id'].reset_index(drop=True)\n",
    "np.save('ref_sample_{}/index.npy'.format(label_sample), ndf.to_records(index=False))"
   ]
  },
  {
   "cell_type": "markdown",
   "id": "06c796df-2e88-4e03-af71-d76fc752af7b",
   "metadata": {},
   "source": [
    "Photometry"
   ]
  },
  {
   "cell_type": "code",
   "execution_count": 212,
   "id": "ae599b28-d4b9-434c-b2cf-d899c68d8927",
   "metadata": {},
   "outputs": [],
   "source": [
    "mod_photom = WIDE_photom.copy()\n",
    "mod_photom[1].data = mod_photom[1].data[np.isin(mod_photom[1].data['ID'], ndf['id'])]\n",
    "mod_photom.writeto('ref_sample_{}/photometry.fits'.format(label_sample), overwrite = True)"
   ]
  },
  {
   "cell_type": "markdown",
   "id": "110d3d75-da6d-4e7f-aab2-3b8623b703ac",
   "metadata": {},
   "source": [
    "sed_data_* files (comment if already copied)"
   ]
  },
  {
   "cell_type": "code",
   "execution_count": 9,
   "id": "5bcbebc1-9803-4ff5-a2ce-8cc83f8b91a6",
   "metadata": {},
   "outputs": [],
   "source": [
    "#import subprocess\n",
    "#command = '../ref{0}_onRecovered/ref_sample/sed_data* ref_sample_{0}/'.format(label_sample)\n",
    "#subprocess.call('cp -rp '+command, shell = True)"
   ]
  },
  {
   "cell_type": "markdown",
   "id": "839ee1a3-d9e1-4631-94fc-94ab4c8f2e20",
   "metadata": {},
   "source": [
    "---"
   ]
  }
 ],
 "metadata": {
  "kernelspec": {
   "display_name": "Python 3 (ipykernel)",
   "language": "python",
   "name": "python3"
  },
  "language_info": {
   "codemirror_mode": {
    "name": "ipython",
    "version": 3
   },
   "file_extension": ".py",
   "mimetype": "text/x-python",
   "name": "python",
   "nbconvert_exporter": "python",
   "pygments_lexer": "ipython3",
   "version": "3.10.9"
  }
 },
 "nbformat": 4,
 "nbformat_minor": 5
}
